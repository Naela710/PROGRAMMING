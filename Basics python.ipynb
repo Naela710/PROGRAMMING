{
 "cells": [
  {
   "cell_type": "code",
   "execution_count": 2,
   "id": "8fa34caa-a630-4912-9bf1-8f00fb712b3b",
   "metadata": {},
   "outputs": [],
   "source": [
    "a = [1, 2 , 3]"
   ]
  },
  {
   "cell_type": "code",
   "execution_count": 4,
   "id": "b8cc83aa-ad65-4d1c-a110-259adedcf3b6",
   "metadata": {},
   "outputs": [
    {
     "data": {
      "text/plain": [
       "1"
      ]
     },
     "execution_count": 4,
     "metadata": {},
     "output_type": "execute_result"
    }
   ],
   "source": [
    "a.count (2)"
   ]
  },
  {
   "cell_type": "code",
   "execution_count": 6,
   "id": "0cacdd1d-d886-4550-a4db-8c251f1dc6b7",
   "metadata": {},
   "outputs": [],
   "source": [
    "a.sort (reverse = True)"
   ]
  },
  {
   "cell_type": "code",
   "execution_count": 8,
   "id": "4c9a531a-5ce1-427c-9ba1-039760aced7f",
   "metadata": {},
   "outputs": [
    {
     "name": "stdout",
     "output_type": "stream",
     "text": [
      "[3, 2, 1]\n"
     ]
    }
   ],
   "source": [
    "print (a)"
   ]
  },
  {
   "cell_type": "code",
   "execution_count": 10,
   "id": "59347da2-bcba-4d27-b5bd-4214d9e7bd57",
   "metadata": {},
   "outputs": [
    {
     "name": "stdout",
     "output_type": "stream",
     "text": [
      "Bonjour tout le monde !\n"
     ]
    }
   ],
   "source": [
    "print(\"Bonjour tout le monde !\")"
   ]
  },
  {
   "cell_type": "code",
   "execution_count": 14,
   "id": "18980e1d-cf15-4535-9495-5fca4f2d8d27",
   "metadata": {},
   "outputs": [
    {
     "name": "stdin",
     "output_type": "stream",
     "text": [
      "Comment vous appelez-vous ?  Naëla\n"
     ]
    },
    {
     "name": "stdout",
     "output_type": "stream",
     "text": [
      "Bonjour Naëla\n"
     ]
    }
   ],
   "source": [
    "prenom = input(\"Comment vous appelez-vous ? \")\n",
    "print(\"Bonjour \" + prenom)"
   ]
  },
  {
   "cell_type": "code",
   "execution_count": 16,
   "id": "d2ce0b49-651e-41c7-a288-1601c859b82b",
   "metadata": {},
   "outputs": [
    {
     "name": "stdin",
     "output_type": "stream",
     "text": [
      "Entrez un nom commun masculin singulier :  canard\n"
     ]
    },
    {
     "name": "stdout",
     "output_type": "stream",
     "text": [
      "Les formes fléchies de 'canard' sont : \n",
      "un canard\n",
      "des canards\n"
     ]
    }
   ],
   "source": [
    "nom = input(\"Entrez un nom commun masculin singulier : \")\n",
    "pluriel = nom + \"s\"\n",
    "print(\"Les formes fléchies de '\" + nom + \"' sont : \")\n",
    "print(\"un \" + nom)\n",
    "print(\"des \" + pluriel)"
   ]
  },
  {
   "cell_type": "code",
   "execution_count": 18,
   "id": "966900af-8b75-4bb8-9dca-515d531f4c5d",
   "metadata": {},
   "outputs": [
    {
     "name": "stdout",
     "output_type": "stream",
     "text": [
      "False\n",
      "J'aime programmer\n",
      "20000\n",
      "222.222\n"
     ]
    }
   ],
   "source": [
    "un_booleen = False\n",
    "une_chaine = \"J'aime programmer\"\n",
    "un_entier = 20000\n",
    "un_float = 222.222\n",
    "print(un_booleen)\n",
    "print(une_chaine)\n",
    "print(un_entier)\n",
    "print(un_float)"
   ]
  },
  {
   "cell_type": "code",
   "execution_count": 20,
   "id": "19d061f3-2540-419b-91c6-72d9c0a2f54d",
   "metadata": {},
   "outputs": [
    {
     "name": "stdout",
     "output_type": "stream",
     "text": [
      "Valeurs initiales :\n",
      "a = 1, b = 1, c = 1\n"
     ]
    }
   ],
   "source": [
    "# Initialisation des variables\n",
    "a = 1\n",
    "b = 1\n",
    "c = 1\n",
    "\n",
    "# Affichage des valeurs initiales\n",
    "print(\"Valeurs initiales :\")\n",
    "print(f\"a = {a}, b = {b}, c = {c}\")"
   ]
  },
  {
   "cell_type": "code",
   "execution_count": 22,
   "id": "1bce39ba-43e3-4ec2-be43-d812b6d9944b",
   "metadata": {},
   "outputs": [
    {
     "name": "stdout",
     "output_type": "stream",
     "text": [
      "\n",
      "Après a = 2 :\n",
      "a = 2, b = 1, c = 1\n"
     ]
    }
   ],
   "source": [
    "# Étape 1 : a = 2\n",
    "a = 2\n",
    "print(\"\\nAprès a = 2 :\")\n",
    "print(f\"a = {a}, b = {b}, c = {c}\")"
   ]
  },
  {
   "cell_type": "code",
   "execution_count": 24,
   "id": "8cc7e29e-8bd1-43fe-8899-ad9e3bc4c153",
   "metadata": {},
   "outputs": [
    {
     "name": "stdout",
     "output_type": "stream",
     "text": [
      "\n",
      "Après b = 10 :\n",
      "a = 2, b = 10, c = 1\n"
     ]
    }
   ],
   "source": [
    "# Étape 2 : b = 10\n",
    "b = 10\n",
    "print(\"\\nAprès b = 10 :\")\n",
    "print(f\"a = {a}, b = {b}, c = {c}\")"
   ]
  },
  {
   "cell_type": "code",
   "execution_count": 26,
   "id": "6eae452e-f5d1-41c8-b6ed-03f93400c647",
   "metadata": {},
   "outputs": [
    {
     "name": "stdout",
     "output_type": "stream",
     "text": [
      "\n",
      "Après c = a + b :\n",
      "a = 2, b = 10, c = 12\n"
     ]
    }
   ],
   "source": [
    "# Étape 3 : c = a + b\n",
    "c = a + b\n",
    "print(\"\\nAprès c = a + b :\")\n",
    "print(f\"a = {a}, b = {b}, c = {c}\")"
   ]
  },
  {
   "cell_type": "code",
   "execution_count": 28,
   "id": "529c499a-f924-4422-b2be-f7d9b8a7c7c1",
   "metadata": {},
   "outputs": [
    {
     "name": "stdout",
     "output_type": "stream",
     "text": [
      "\n",
      "Après c = b - c :\n",
      "a = 2, b = 10, c = -2\n"
     ]
    }
   ],
   "source": [
    "# Étape 4 : c = b - c\n",
    "c = b - c\n",
    "print(\"\\nAprès c = b - c :\")\n",
    "print(f\"a = {a}, b = {b}, c = {c}\")"
   ]
  },
  {
   "cell_type": "markdown",
   "id": "204a255a-0ab6-4188-90b9-088542851eb8",
   "metadata": {},
   "source": [
    "# exercice 1:\n",
    "Une école souhaite effectuer une distribution de bonbons pour sa fête annuelle. Il y a 4 classes dans l'école, avec respectivement 25, 30, 27 et 22 élèves. 8 élèves sont absents le jour de la fête et il faut distribuer 3 bonbons par éléve. Ecrivez un programme qui calcule et affiche le nombre total de bonbons nécessaires."
   ]
  },
  {
   "cell_type": "code",
   "execution_count": 30,
   "id": "df24deb0-df58-45a6-9f93-990666e8019f",
   "metadata": {},
   "outputs": [],
   "source": [
    "#Nombres d'élèves par classe\n",
    "classe_1 = 25\n",
    "classe_2 = 30\n",
    "classe_3 = 27\n",
    "classe_4 = 22"
   ]
  },
  {
   "cell_type": "code",
   "execution_count": 32,
   "id": "17a786e8-a18e-4da6-9703-1985dc4f4bf6",
   "metadata": {},
   "outputs": [
    {
     "name": "stdout",
     "output_type": "stream",
     "text": [
      "104\n"
     ]
    }
   ],
   "source": [
    "#Nombres totaux d'élèves dans l'école\n",
    "total_eleve = classe_1 + classe_2 + classe_3 + classe_4\n",
    "print (total_eleve)"
   ]
  },
  {
   "cell_type": "code",
   "execution_count": 34,
   "id": "c429e7b2-1155-4fec-a6ef-1f845a5836ec",
   "metadata": {},
   "outputs": [],
   "source": [
    "# Nombre d'élèves absents\n",
    "eleves_absents = 8"
   ]
  },
  {
   "cell_type": "code",
   "execution_count": 36,
   "id": "0af12d6a-f34f-4aec-9a96-b57af75badde",
   "metadata": {},
   "outputs": [],
   "source": [
    "# Nombre d'élèves présents\n",
    "eleves_presents = total_eleve - eleves_absents"
   ]
  },
  {
   "cell_type": "code",
   "execution_count": 38,
   "id": "5fae21de-6b5a-44cf-a1d5-c43068c1b7f9",
   "metadata": {},
   "outputs": [
    {
     "name": "stdout",
     "output_type": "stream",
     "text": [
      "Le nombre total de bonbons nécessaires est : 288\n"
     ]
    }
   ],
   "source": [
    "# Bonbons à distribuer (3 bonbons par élève présent)\n",
    "bonbons_total = eleves_presents * 3\n",
    "\n",
    "# Affichage du résultat\n",
    "print(f\"Le nombre total de bonbons nécessaires est : {bonbons_total}\")"
   ]
  },
  {
   "cell_type": "markdown",
   "id": "f6ce5ab9-00cb-4af8-9bd9-f1f4bd1d69cf",
   "metadata": {},
   "source": [
    "# execice 2: \n",
    "Une ville souhaite organiser un triathlon avec un format un peu spécial. Le triathlon se déroulera sur 3 jours et chaque jour les athlètes devront effectuer les distances suivantes : 2 km de natation, 34 km de cyclisme et 6 km de course à pied. Ecrire un programme qui affiche la distance totale parcourue à la fin de chacun des 3 jours de la compétition."
   ]
  },
  {
   "cell_type": "code",
   "execution_count": 33,
   "id": "76dedeb0-a798-455f-94aa-d4c26a90defc",
   "metadata": {},
   "outputs": [
    {
     "name": "stdout",
     "output_type": "stream",
     "text": [
      "À la fin du jour 1, la distance totale parcourue est : 42 km\n",
      "À la fin du jour 2, la distance totale parcourue est : 84 km\n",
      "À la fin du jour 3, la distance totale parcourue est : 126 km\n"
     ]
    }
   ],
   "source": [
    "# Distances par jour\n",
    "natation = 2  # km\n",
    "cyclisme = 34  # km\n",
    "course = 6  # km\n",
    "\n",
    "# Distance totale par jour\n",
    "distance_jour = natation + cyclisme + course\n",
    "\n",
    "# Calcul et affichage des distances cumulées à la fin de chaque jour\n",
    "distance_totale = 0\n",
    "\n",
    "for jour in range(1, 4):  # Le triathlon se déroule sur 3 jours\n",
    "    distance_totale += distance_jour\n",
    "    print(f\"À la fin du jour {jour}, la distance totale parcourue est : {distance_totale} km\")"
   ]
  },
  {
   "cell_type": "markdown",
   "id": "c7a33283-414d-4390-ac79-dc1d3579978e",
   "metadata": {},
   "source": [
    "# exercice 3:\n",
    "Ecrire un programme avec trois variables : l'une correspond au nombre d'heures (initialisée à 3), l'autre au nombre de minutes (initialisée à 21) et la dernière calcule le nombre total de minutes à l'aide de la formule : (nombre d'heures * 60 ) + nombre de minutes. Il faut ensuite afficher le total."
   ]
  },
  {
   "cell_type": "code",
   "execution_count": 36,
   "id": "ef0b680d-27d7-4c3d-aa8b-c63f75a9b586",
   "metadata": {},
   "outputs": [
    {
     "name": "stdout",
     "output_type": "stream",
     "text": [
      "Le nombre total de minutes est : 201\n"
     ]
    }
   ],
   "source": [
    "# Initialisation des variables\n",
    "nombre_heures = 3\n",
    "nombre_minutes = 21\n",
    "\n",
    "# Calcul du total des minutes\n",
    "total_minutes = (nombre_heures * 60) + nombre_minutes\n",
    "\n",
    "# Affichage du résultat\n",
    "print(f\"Le nombre total de minutes est : {total_minutes}\")"
   ]
  },
  {
   "cell_type": "markdown",
   "id": "80ae16d3-4e13-4c6c-a1e0-bc39b0565dc1",
   "metadata": {},
   "source": [
    "# exercice 4: échange de valeurs \n",
    "L'objectif est d'écrire un programme qui permet d'échanger les valeurs de deux variables x et y. x sera initialisé à 3 et y sera initialisé à 5. A la fin du programme, x vaudra 5 et y vaudra 3. On s'assurera que l'échange des valeurs a bien été effectué en affichant les valeurs.ATTENTION : le programme doit avoir le même principe de fonctionnement quelles que soient les valeurs d'initialisation !"
   ]
  },
  {
   "cell_type": "code",
   "execution_count": 39,
   "id": "551aa91f-d411-4712-abc1-f77ecb34e637",
   "metadata": {},
   "outputs": [
    {
     "name": "stdout",
     "output_type": "stream",
     "text": [
      "Avant l'échange:\n",
      "x = 3\n",
      "y = 5\n",
      "Après l'échange:\n",
      "x = 5\n",
      "y = 3\n"
     ]
    }
   ],
   "source": [
    "# Initialisation des variables\n",
    "x = 3\n",
    "y = 5\n",
    "\n",
    "# Affichage avant l'échange\n",
    "print(\"Avant l'échange:\")\n",
    "print(\"x =\", x)\n",
    "print(\"y =\", y)\n",
    "\n",
    "# Échange des valeurs\n",
    "x, y = y, x  # Affectation simultanée\n",
    "\n",
    "# Affichage après l'échange\n",
    "print(\"Après l'échange:\")\n",
    "print(\"x =\", x)\n",
    "print(\"y =\", y)"
   ]
  },
  {
   "cell_type": "code",
   "execution_count": 41,
   "id": "e1b7d81c-f81a-45ae-9410-cbea61c88be4",
   "metadata": {},
   "outputs": [
    {
     "name": "stdout",
     "output_type": "stream",
     "text": [
      "Un vieil etang et\n",
      "Une grenouille qui plonge,\n",
      "Le bruit de l'eau.\n"
     ]
    }
   ],
   "source": [
    "haiku = '''Un vieil etang et\n",
    "Une grenouille qui plonge,\n",
    "Le bruit de l'eau.'''\n",
    "print(haiku)"
   ]
  },
  {
   "cell_type": "code",
   "execution_count": 43,
   "id": "02e130e1-7c66-418e-aeb2-629a156ee6ef",
   "metadata": {},
   "outputs": [],
   "source": [
    "replique = \"Petit Gibus dit :  \\\"Si j'aurais su, j'aurais pas v\\'nu !\\\"\""
   ]
  },
  {
   "cell_type": "code",
   "execution_count": 45,
   "id": "776d8f89-3829-4396-8c81-dd2eca763e54",
   "metadata": {},
   "outputs": [
    {
     "data": {
      "text/plain": [
       "'Petit Gibus dit\\xa0:  \"Si j\\'aurais su, j\\'aurais pas v\\'nu !\"'"
      ]
     },
     "execution_count": 45,
     "metadata": {},
     "output_type": "execute_result"
    }
   ],
   "source": [
    "replique"
   ]
  },
  {
   "cell_type": "code",
   "execution_count": 51,
   "id": "34ff2653-4ba9-4a66-a1ca-28b89f1c29ac",
   "metadata": {},
   "outputs": [],
   "source": [
    "replique_correc = 'Petit Gibus dit : \"Si j\\'aurais su, j\\'aurais pas v\\'nu !\"'"
   ]
  },
  {
   "cell_type": "code",
   "execution_count": 53,
   "id": "2c7030a0-5edb-460e-bcb2-68e3fdaa1ee5",
   "metadata": {},
   "outputs": [
    {
     "data": {
      "text/plain": [
       "'Petit Gibus dit : \"Si j\\'aurais su, j\\'aurais pas v\\'nu !\"'"
      ]
     },
     "execution_count": 53,
     "metadata": {},
     "output_type": "execute_result"
    }
   ],
   "source": [
    "replique_correc"
   ]
  },
  {
   "cell_type": "code",
   "execution_count": 40,
   "id": "af75ec9f-cd38-4cc2-8e1f-7180f3bd91fc",
   "metadata": {},
   "outputs": [
    {
     "name": "stdout",
     "output_type": "stream",
     "text": [
      "Bonjour Ada\n"
     ]
    }
   ],
   "source": [
    "salutation = \"Bonjour \"\n",
    "prenom = \"Ada\"\n",
    "print(salutation + prenom)"
   ]
  },
  {
   "cell_type": "code",
   "execution_count": 57,
   "id": "95dd508f-6dc8-4109-8418-ebc5e68f828d",
   "metadata": {},
   "outputs": [
    {
     "name": "stdout",
     "output_type": "stream",
     "text": [
      "c\n"
     ]
    }
   ],
   "source": [
    "#extraire le cinquième caractère du mot \"abracadabra\"\n",
    "mot = \"abracadabra\"\n",
    "cinquieme_lettre = mot[4]\n",
    "print(cinquieme_lettre)"
   ]
  },
  {
   "cell_type": "code",
   "execution_count": 59,
   "id": "7a3f6f30-fc20-4f55-9c0e-680981970f41",
   "metadata": {},
   "outputs": [
    {
     "name": "stdout",
     "output_type": "stream",
     "text": [
      "Trois premiers abr\n",
      "Trois derniers bra\n",
      "Du 2eme au 5eme caractère brac\n"
     ]
    }
   ],
   "source": [
    "mot = \"abracadabra\"\n",
    "#Extraction des trois premiers caractères\n",
    "trois_premiers = mot[0:3]\n",
    "print(\"Trois premiers\", trois_premiers)\n",
    "#Extraction des trois derniers caractères\n",
    "trois_derniers = mot[-3:]\n",
    "print(\"Trois derniers\", trois_derniers)\n",
    "#Extraction du deuxieme au cinquième caractère\n",
    "deux_cinq = mot[1:5]\n",
    "print(\"Du 2eme au 5eme caractère\", deux_cinq)"
   ]
  },
  {
   "cell_type": "code",
   "execution_count": 67,
   "id": "f711f89f-103a-423b-a80d-17bdb3a12441",
   "metadata": {},
   "outputs": [],
   "source": [
    "mot1 = \"chanson\"\n",
    "mot2 = \"acteur\"\n",
    "mot3 = mot1[0:4] + mot2[-4:]"
   ]
  },
  {
   "cell_type": "code",
   "execution_count": 69,
   "id": "1c6a5641-2abb-4c1c-84fa-c3a64f61f957",
   "metadata": {},
   "outputs": [
    {
     "name": "stdout",
     "output_type": "stream",
     "text": [
      "chanteur\n"
     ]
    }
   ],
   "source": [
    "print(mot3)"
   ]
  },
  {
   "cell_type": "code",
   "execution_count": 42,
   "id": "51e44666-2518-4fc9-b6f9-23d4c59d4439",
   "metadata": {},
   "outputs": [
    {
     "name": "stdout",
     "output_type": "stream",
     "text": [
      "Nous sommes le 17/9/2018\n",
      "Demain nous serons le 18/9/2018\n"
     ]
    }
   ],
   "source": [
    "jour = 17\n",
    "mois = 9\n",
    "annee = 2018\n",
    "print(f\"Nous sommes le {jour}/{mois}/{annee}\")\n",
    "print(f\"Demain nous serons le {jour+1}/{mois}/{annee}\")"
   ]
  },
  {
   "cell_type": "markdown",
   "id": "dbe84983-57b6-4c94-b01e-22151f4102d2",
   "metadata": {},
   "source": [
    "## Insertion de valeurs dans une chaîne"
   ]
  },
  {
   "cell_type": "code",
   "execution_count": 50,
   "id": "3b33b7db-d522-48f0-a5f6-6c762faf6fcc",
   "metadata": {},
   "outputs": [
    {
     "name": "stdout",
     "output_type": "stream",
     "text": [
      "Nous somme le 28/9/2024\n",
      "Demain nous serons le 29/9/2024\n"
     ]
    }
   ],
   "source": [
    "jour = 28\n",
    "mois = 9\n",
    "annee = 2024\n",
    "print(f\"Nous somme le {jour}/{mois}/{annee}\")\n",
    "print(f\"Demain nous serons le {jour+1}/{mois}/{annee}\")"
   ]
  },
  {
   "cell_type": "markdown",
   "id": "03b588b9-d541-44d4-9e9c-b6695e211e72",
   "metadata": {},
   "source": [
    "## Chaîne et nombres"
   ]
  },
  {
   "cell_type": "code",
   "execution_count": 54,
   "id": "a1485673-e839-4877-b907-d260579d6aad",
   "metadata": {},
   "outputs": [
    {
     "name": "stdout",
     "output_type": "stream",
     "text": [
      "202020\n",
      "60\n"
     ]
    }
   ],
   "source": [
    "prix = '20'\n",
    "quantite = 3\n",
    "print(prix * quantite) # Affiche 202020 une concaténation de trois fois la chaîne '20'\n",
    "                        # * répète\n",
    "prix = 20\n",
    "print(prix * quantite) # Affiche 60"
   ]
  },
  {
   "cell_type": "markdown",
   "id": "80e199c3-5326-4b42-8a24-45f0359efbc8",
   "metadata": {},
   "source": [
    "Il est possible de transformer une chaîne en nombre et vice-versa:\n"
   ]
  },
  {
   "cell_type": "code",
   "execution_count": 57,
   "id": "0062a2d5-664e-48ca-990e-21b8a3715491",
   "metadata": {},
   "outputs": [
    {
     "name": "stdout",
     "output_type": "stream",
     "text": [
      "505050\n",
      "150\n",
      "505050\n"
     ]
    }
   ],
   "source": [
    "prix = '50'   #chaîne de caractères\n",
    "prix_converti = int(prix)     # convertir la chaîne en integer \n",
    "print(prix * quantite) # Affiche 505050\n",
    "print(prix_converti * quantite) # Affiche 150\n",
    "prix_reconverti = str(prix_converti)  # reconvertir en chaîne de caractère\n",
    "print(prix_reconverti * quantite) # Affiche 505050"
   ]
  },
  {
   "cell_type": "markdown",
   "id": "472e792a-d6a5-4635-b3a5-b824434e6951",
   "metadata": {},
   "source": [
    "C'est également possible avec les nombres à virgule :"
   ]
  },
  {
   "cell_type": "code",
   "execution_count": 62,
   "id": "b1f06f15-4084-43dd-b253-e717f0ac75be",
   "metadata": {},
   "outputs": [
    {
     "name": "stdout",
     "output_type": "stream",
     "text": [
      "46.5\n",
      "15.515.515.5\n"
     ]
    }
   ],
   "source": [
    "prix = '15.5'\n",
    "prix_converti = float(prix)\n",
    "print(prix_converti * quantite) # Affiche 46.5\n",
    "prix_reconverti = str(prix_converti)\n",
    "print(prix_reconverti * quantite)"
   ]
  },
  {
   "cell_type": "code",
   "execution_count": 68,
   "id": "95458e09-ae7d-47ba-b118-c36a1cb6255f",
   "metadata": {},
   "outputs": [
    {
     "name": "stdin",
     "output_type": "stream",
     "text": [
      "Entrez un nom commun masculin pluriel :  chiens\n"
     ]
    },
    {
     "name": "stdout",
     "output_type": "stream",
     "text": [
      "Les formes fléchies de \"chien\" sont : \n",
      "un chien\n",
      "des chiens\n"
     ]
    }
   ],
   "source": [
    "nom = input(\"Entrez un nom commun masculin pluriel : \")\n",
    "# Vérifie que le nom se termine bien par 's'\n",
    "if nom.endswith('s'):\n",
    "    # Enlève le 's' à la fin pour obtenir le singulier\n",
    "    singulier = nom[:-1]\n",
    "else:\n",
    "    # Si le nom ne se termine pas par 's', un message d'erreur est affiché\n",
    "    print(\"Erreur : le nom doit se terminer par 's' pour être un pluriel valide.\")\n",
    "    exit()  # Sortie du programme en cas d'erreur\n",
    "\n",
    "# Affichage des formes fléchies\n",
    "print(f\"Les formes fléchies de \\\"{singulier}\\\" sont : \")\n",
    "print(f\"un {singulier}\")\n",
    "print(f\"des {nom}\")\n"
   ]
  },
  {
   "cell_type": "markdown",
   "id": "74cda3fd-c56f-447a-ba64-20cf352a2c2c",
   "metadata": {},
   "source": [
    "Ecrire un programme qui demande à l'utilisateur d'entrer un nombre et qui affiche le nombre au carré :"
   ]
  },
  {
   "cell_type": "code",
   "execution_count": 71,
   "id": "60c09fc2-16f1-401c-8999-407d66f31e4e",
   "metadata": {},
   "outputs": [
    {
     "name": "stdin",
     "output_type": "stream",
     "text": [
      "Entrez un nombre :  4\n"
     ]
    },
    {
     "name": "stdout",
     "output_type": "stream",
     "text": [
      "4 au carré vaut 16\n"
     ]
    }
   ],
   "source": [
    "# Demande à l'utilisateur d'entrer un nombre\n",
    "nombre = input(\"Entrez un nombre : \")\n",
    "\n",
    "# Convertit l'entrée en un nombre entier\n",
    "nombre = int(nombre)\n",
    "\n",
    "# Calcule le carré du nombre\n",
    "carre = nombre * nombre\n",
    "\n",
    "# Affiche le résultat\n",
    "print(f\"{nombre} au carré vaut {carre}\")\n"
   ]
  },
  {
   "cell_type": "markdown",
   "id": "3b02c6b0-d939-4e8f-b498-3e31b38d3cea",
   "metadata": {},
   "source": [
    "Écrivez un programme qui demande à l'utilisateur l'infinitif d'un verbe simple du premier groupe, comme par exemple \"chanter\", puis affiche la conjugaison du verbe au présent de l'indicatif, de la manière suivante :"
   ]
  },
  {
   "cell_type": "code",
   "execution_count": 75,
   "id": "7e196ffa-cb28-4091-9eea-f40fa7d46c4e",
   "metadata": {},
   "outputs": [
    {
     "name": "stdin",
     "output_type": "stream",
     "text": [
      "Entrez l'infinitif d'un verbe du premier groupe : chanter\n"
     ]
    },
    {
     "name": "stdout",
     "output_type": "stream",
     "text": [
      "La conjugaison de \"chanter\" au présent de l'indicatif :\n",
      "  je chante\n",
      "  tu chantes\n",
      "  il/elle/on chante\n",
      "  nous chantons\n",
      "  vous chantez\n",
      "  ils/elles chantent\n"
     ]
    }
   ],
   "source": [
    "# Demande à l'utilisateur l'infinitif d'un verbe simple du premier groupe\n",
    "verbe = input(\"Entrez l'infinitif d'un verbe du premier groupe :\")\n",
    "\n",
    "# Vérifie que le verbe se termine bien par 'er'\n",
    "if verbe.endswith('er'):\n",
    "    # Supprime la terminaison 'er' pour obtenir le radical du verbe\n",
    "    radical = verbe[:-2]\n",
    "\n",
    "    # Affiche la conjugaison du verbe au présent de l'indicatif\n",
    "    print(f\"La conjugaison de \\\"{verbe}\\\" au présent de l'indicatif :\")\n",
    "    print(f\"  je {radical}e\")\n",
    "    print(f\"  tu {radical}es\")\n",
    "    print(f\"  il/elle/on {radical}e\")\n",
    "    print(f\"  nous {radical}ons\")\n",
    "    print(f\"  vous {radical}ez\")\n",
    "    print(f\"  ils/elles {radical}ent\")\n",
    "else:\n",
    "    # Si le verbe n'est pas du premier groupe, afficher un message d'erreur\n",
    "    print(\"Erreur : Le verbe doit se terminer par 'er' pour être du premier groupe.\")"
   ]
  },
  {
   "cell_type": "markdown",
   "id": "35bdfefb-4eae-48b5-9535-186164289124",
   "metadata": {},
   "source": [
    "## Exercice : empreinte carbone des gobelets pour le café\n",
    "Le prix d'un café acheté sur une machine à café de la cafétéria du Patio est de 80 centimes. \n",
    "Par ailleurs, les cafés sont distribués dans des gobelets en carton jetables. \n",
    "D'après cet article, un gobelet en carton a une empreinte carbone de 0,007 kgCO2 environ. \n",
    "Un gobelet réutilisable en plastique a une empreinte carbone de 0,06 kgCO2 (le gobelet étant réutilisé, cette empreinte est la même quel que soit le nombre d'utilisations).\n",
    "Enfin, à la caféteria, les personnes qui utilisent leur propre gobelet bénéficient d'une réduction de 10 centimes : le café coûte alors 70 centimes. Ecrivez un programme qui demande le nombre de cafés consommés par semaine. \n",
    "Le programme affichera ensuite un comparatif entre l'utilisation de gobelets en cartons jetables et l'utilisation d'un gobelet réutilisable, selon les critères suivants : \n",
    "##### l'empreinte carbone totale pour une année universitaire (en considérant qu'une année universitaire a 28 semaines)\n",
    "##### le coût total de la consommation de café pour l'année"
   ]
  },
  {
   "cell_type": "code",
   "execution_count": 80,
   "id": "590c9104-90c9-42ca-9939-4c1f466193cb",
   "metadata": {},
   "outputs": [],
   "source": [
    "# Prix et empreintes carbones\n",
    "prix_cafe_carton = 0.80  # en euros\n",
    "prix_cafe_reutilisable = 0.70  # en euros\n",
    "empreinte_carbone_carton = 0.007  # en kg CO2 par gobelet en carton\n",
    "empreinte_carbone_reutilisable = 0.06  # en kg CO2 pour le gobelet réutilisable (constante)"
   ]
  },
  {
   "cell_type": "code",
   "execution_count": 82,
   "id": "425593c0-b7da-4f52-bb0c-219d84e46746",
   "metadata": {},
   "outputs": [],
   "source": [
    "# Nombre de semaines dans une année universitaire\n",
    "semaines_par_an = 28"
   ]
  },
  {
   "cell_type": "code",
   "execution_count": 86,
   "id": "a55135c8-e496-4b68-ad14-7909e37c332d",
   "metadata": {},
   "outputs": [
    {
     "name": "stdin",
     "output_type": "stream",
     "text": [
      "Combien de cafés consommez-vous par semaine ?  7\n"
     ]
    },
    {
     "name": "stdout",
     "output_type": "stream",
     "text": [
      "\n",
      "Bilan carbone et financier de votre consommation de café par an :\n",
      "Gobelets en carton jetables : 156.80 € et 1.37 kgCO2e\n",
      "Gobelet en plastique réutilisable : 137.20 € et 0.06 kgCO2e\n",
      "\n",
      "En utilisant un gobelet réutilisable, vous économisez 19.60 € et 1.31 kgCO2e\n"
     ]
    }
   ],
   "source": [
    "# Demande à l'utilisateur combien de cafés il consomme par semaine\n",
    "cafes_par_semaine = int(input(\"Combien de cafés consommez-vous par semaine ? \"))\n",
    "\n",
    "# Calculs pour une année universitaire\n",
    "cafes_par_an = cafes_par_semaine * semaines_par_an\n",
    "\n",
    "# Pour les gobelets en carton\n",
    "cout_total_carton = cafes_par_an * prix_cafe_carton\n",
    "empreinte_carbone_totale_carton = cafes_par_an * empreinte_carbone_carton\n",
    "\n",
    "# Pour un gobelet réutilisable\n",
    "cout_total_reutilisable = cafes_par_an * prix_cafe_reutilisable\n",
    "empreinte_carbone_totale_reutilisable = empreinte_carbone_reutilisable  # l'empreinte est fixe pour l'année\n",
    "\n",
    "# Calcul des économies\n",
    "economie_cout = cout_total_carton - cout_total_reutilisable\n",
    "economie_carbone = empreinte_carbone_totale_carton - empreinte_carbone_totale_reutilisable\n",
    "\n",
    "# Affichage des résultats\n",
    "print(\"\\nBilan carbone et financier de votre consommation de café par an :\")\n",
    "print(f\"Gobelets en carton jetables : {cout_total_carton:.2f} € et {empreinte_carbone_totale_carton:.2f} kgCO2e\")\n",
    "print(f\"Gobelet en plastique réutilisable : {cout_total_reutilisable:.2f} € et {empreinte_carbone_totale_reutilisable:.2f} kgCO2e\")\n",
    "print(f\"\\nEn utilisant un gobelet réutilisable, vous économisez {economie_cout:.2f} € et {economie_carbone:.2f} kgCO2e\")"
   ]
  },
  {
   "cell_type": "markdown",
   "id": "4a6b6ca0-9213-4b06-a443-72bb32d86a62",
   "metadata": {},
   "source": [
    "# Listes \n",
    "Les listes permettent de stocker des séquences, c'est-à-dire des collections finies d'éléments ordonnés selon un ordre précis. Les éléments sont stockés dans des \"cellules\" ordonnées et indicées. L'indice est le numéro d'emplacement d'un élément dans la séquence. Il s'agit d'un entier positif ou négatif. Lorsque l'on déclare une liste, les éléments sont séparés par des virgules et l'ensemble est entouré par des crochets."
   ]
  },
  {
   "cell_type": "code",
   "execution_count": 89,
   "id": "8875eada-f778-42db-9303-bfc3bcbbaef3",
   "metadata": {},
   "outputs": [],
   "source": [
    "jours = [\"lundi\", \"mardi\", \"mercredi\", \"jeudi\", \"vendredi\", \"samedi\", \"dimanche\"]"
   ]
  },
  {
   "cell_type": "code",
   "execution_count": 97,
   "id": "299e5c0f-96b5-4df0-8dff-8aa0479841b9",
   "metadata": {},
   "outputs": [
    {
     "name": "stdout",
     "output_type": "stream",
     "text": [
      "mardi\n",
      "lundi\n",
      "dimanche\n"
     ]
    }
   ],
   "source": [
    "print(jours[1])\n",
    "print(jours[0]) # Affiche lundi\n",
    "print(jours[6]) # Affiche dimanche\n"
   ]
  },
  {
   "cell_type": "code",
   "execution_count": 101,
   "id": "d2a9ad70-3581-4bac-9fd7-85e6fb6c28b9",
   "metadata": {},
   "outputs": [
    {
     "name": "stdout",
     "output_type": "stream",
     "text": [
      "['Monday', 'mardi', 'mercredi', 'jeudi', 'vendredi', 'samedi', 'dimanche']\n"
     ]
    }
   ],
   "source": [
    "# Les listes sont modifiables\n",
    "jours[0] = \"Monday\"\n",
    "print(jours) # Affiche ['Monday', 'mardi', 'mercredi', 'jeudi', 'vendredi', 'samedi', 'dimanche']"
   ]
  },
  {
   "cell_type": "markdown",
   "id": "324fbde7-642c-4e93-a884-ea4a0aebd891",
   "metadata": {},
   "source": [
    "On peut également récupérer des sous-séquences d'une liste, appelées tranches (slices). Par exemple, pour récupérer les 5 premiers éléments (à noter que l'élément d'indice 5 est exclu) :"
   ]
  },
  {
   "cell_type": "code",
   "execution_count": 104,
   "id": "1e4ec5f3-44a5-4e90-a075-4083874ea553",
   "metadata": {},
   "outputs": [
    {
     "name": "stdout",
     "output_type": "stream",
     "text": [
      "['Monday', 'mardi', 'mercredi', 'jeudi', 'vendredi']\n"
     ]
    }
   ],
   "source": [
    "print(jours[0:5])"
   ]
  },
  {
   "cell_type": "markdown",
   "id": "8b5431e3-d6dc-433f-b695-e80ce1958cbf",
   "metadata": {},
   "source": [
    "On peut également faire des listes de listes :"
   ]
  },
  {
   "cell_type": "code",
   "execution_count": 111,
   "id": "54527802-12d7-46e5-a986-4234ea207364",
   "metadata": {},
   "outputs": [
    {
     "name": "stdout",
     "output_type": "stream",
     "text": [
      "[['chat', 'chien', 'cheval'], ['cat', 'dog', 'horse'], ['Katze', 'Hund', 'Pferd']]\n",
      "horse\n",
      "dog\n"
     ]
    }
   ],
   "source": [
    "fr = [\"chat\", \"chien\", \"cheval\"]\n",
    "en = [\"cat\", \"dog\", \"horse\"]\n",
    "de = [\"Katze\", \"Hund\", \"Pferd\"]\n",
    "animaux = [fr, en, de]\n",
    "print(animaux) # Affiche [['chat', 'chien', 'cheval'], ['cat', 'dog', 'horse'], ['Katze', 'Hund', 'Pferd']]\n",
    "print(animaux[1][2]) # Affiche horse\n",
    "print(animaux[1] [1])"
   ]
  },
  {
   "cell_type": "markdown",
   "id": "52dc6086-a1f2-4fe1-b420-502541045bd7",
   "metadata": {},
   "source": [
    "## Ajout d'éléments à une liste"
   ]
  },
  {
   "cell_type": "code",
   "execution_count": 114,
   "id": "330660ca-34ab-4a28-81c9-4648f502ba87",
   "metadata": {},
   "outputs": [
    {
     "name": "stdout",
     "output_type": "stream",
     "text": [
      "['chat', 'chien', 'cheval', 'vache']\n"
     ]
    }
   ],
   "source": [
    "fr.append(\"vache\")\n",
    "print(fr)"
   ]
  },
  {
   "cell_type": "code",
   "execution_count": 116,
   "id": "5ca7b678-5c2f-4a57-bf08-33ebd22a1b69",
   "metadata": {},
   "outputs": [
    {
     "name": "stdout",
     "output_type": "stream",
     "text": [
      "['chat', 'hamster', 'chien', 'cheval', 'vache']\n"
     ]
    }
   ],
   "source": [
    "# Il est également possible d'insérer des éléments à une position donnée :\n",
    "fr.insert(1, \"hamster\")\n",
    "print(fr)"
   ]
  },
  {
   "cell_type": "code",
   "execution_count": 118,
   "id": "d968df4d-11bd-433b-be74-d76785f88433",
   "metadata": {},
   "outputs": [
    {
     "name": "stdout",
     "output_type": "stream",
     "text": [
      "['chat', 'chien', 'cheval', 'vache']\n"
     ]
    }
   ],
   "source": [
    "# Suppression des éléments\n",
    "del(fr[1])\n",
    "print(fr)"
   ]
  },
  {
   "cell_type": "code",
   "execution_count": 120,
   "id": "95b118f9-0b4e-4d94-b406-aff51cd7f5c5",
   "metadata": {},
   "outputs": [
    {
     "name": "stdout",
     "output_type": "stream",
     "text": [
      "['chat', 'chien', 'cheval']\n"
     ]
    }
   ],
   "source": [
    "fr.remove('vache')\n",
    "print(fr)"
   ]
  },
  {
   "cell_type": "code",
   "execution_count": 122,
   "id": "8bf6ee05-4d1f-4e81-98c2-fffbb314e824",
   "metadata": {},
   "outputs": [
    {
     "name": "stdout",
     "output_type": "stream",
     "text": [
      "3\n"
     ]
    }
   ],
   "source": [
    "# Longueur d'une liste\n",
    "print(len(fr))"
   ]
  },
  {
   "cell_type": "code",
   "execution_count": 124,
   "id": "4f87821f-0099-4560-9229-6a1b94b6afa5",
   "metadata": {},
   "outputs": [
    {
     "name": "stdout",
     "output_type": "stream",
     "text": [
      "['pomme', 'poire', 'banane', 'poireau', 'chou', 'carotte']\n"
     ]
    }
   ],
   "source": [
    "# Concaténation de listes\n",
    "fruits = [\"pomme\", \"poire\", \"banane\"]\n",
    "legumes = [\"poireau\", \"chou\", \"carotte\"]\n",
    "ingredients = fruits + legumes\n",
    "print(ingredients)"
   ]
  },
  {
   "cell_type": "code",
   "execution_count": 128,
   "id": "e8346c07-4f88-42d5-a066-708ec8b04686",
   "metadata": {},
   "outputs": [
    {
     "name": "stdout",
     "output_type": "stream",
     "text": [
      "['banane', 'carotte', 'chou', 'poire', 'poireau', 'pomme']\n",
      "['pomme', 'poireau', 'poire', 'chou', 'carotte', 'banane']\n"
     ]
    }
   ],
   "source": [
    "# Tri des listes\n",
    "ingredients.sort()\n",
    "print(ingredients)\n",
    "ingredients.reverse()\n",
    "print(ingredients)"
   ]
  },
  {
   "cell_type": "code",
   "execution_count": 130,
   "id": "632c9dcc-1ba1-4caf-95e7-5492c8bfc4d9",
   "metadata": {},
   "outputs": [
    {
     "data": {
      "text/plain": [
       "'un;deux;trois;quatre;cinq'"
      ]
     },
     "execution_count": 130,
     "metadata": {},
     "output_type": "execute_result"
    }
   ],
   "source": [
    "# Assemblage de liste avec join\n",
    "\n",
    "## Assemblage avec ;\n",
    "\";\".join(['un', 'deux', 'trois', 'quatre', 'cinq']) "
   ]
  },
  {
   "cell_type": "code",
   "execution_count": 132,
   "id": "c2c2c302-85df-4072-b4a9-565116b1db5f",
   "metadata": {},
   "outputs": [
    {
     "name": "stdout",
     "output_type": "stream",
     "text": [
      "un\tdeux\ttrois\tquatre\tcinq\n"
     ]
    }
   ],
   "source": [
    "# Assemblage avec une tabulation\n",
    "s = \"\\t\".join(['un', 'deux', 'trois', 'quatre', 'cinq']) \n",
    "print(s)"
   ]
  },
  {
   "cell_type": "code",
   "execution_count": 134,
   "id": "57844698-9f65-4b81-aeca-aa3668f4696d",
   "metadata": {},
   "outputs": [
    {
     "name": "stdout",
     "output_type": "stream",
     "text": [
      "un\n",
      "deux\n",
      "trois\n",
      "quatre\n",
      "cinq\n"
     ]
    }
   ],
   "source": [
    "# Assemblage avec un saut de ligne\n",
    "s = \"\\n\".join(['un', 'deux', 'trois', 'quatre', 'cinq']) \n",
    "print(s)"
   ]
  },
  {
   "cell_type": "markdown",
   "id": "76cbb36e-14d8-463f-99e5-0ddb3e7f67cc",
   "metadata": {},
   "source": [
    "#### ATTENTION : tous les éléments de la liste doivent être des chaînes de caractères\n"
   ]
  },
  {
   "cell_type": "markdown",
   "id": "31262999-d251-439d-a187-58d934a3d50b",
   "metadata": {},
   "source": [
    "## Exercice : affichage du mois\n",
    "Écrire un programme qui demande à l'utilisateur un numéro de mois (de 1 à 12), puis affiche : « Vous avez sélectionné le mois de : xxxxxx » (avec xxxxxx janvier si l'utilisateur a choisi 1, août si l'utilisateur a choisi 8...). Les mois seront stockés sous forme de liste."
   ]
  },
  {
   "cell_type": "code",
   "execution_count": 145,
   "id": "7ac0aa1a-1aa4-4aa5-8455-b3f3619ebcdf",
   "metadata": {},
   "outputs": [
    {
     "name": "stdin",
     "output_type": "stream",
     "text": [
      "Entrez un numéro de mois (de 1 à 12) :  1\n"
     ]
    },
    {
     "name": "stdout",
     "output_type": "stream",
     "text": [
      "Vous avez sélectionné le mois de : janvier\n"
     ]
    }
   ],
   "source": [
    "# Liste des mois de l'année\n",
    "mois = [\n",
    "    \"janvier\", \"février\", \"mars\", \"avril\", \"mai\", \"juin\", \n",
    "    \"juillet\", \"août\", \"septembre\", \"octobre\", \"novembre\", \"décembre\"\n",
    "]\n",
    "\n",
    "# Demande à l'utilisateur d'entrer un numéro de mois\n",
    "numero_mois = int(input(\"Entrez un numéro de mois (de 1 à 12) : \"))\n",
    "\n",
    "# Vérifie que le numéro du mois est valide (entre 1 et 12)\n",
    "if 1 <= numero_mois <= 12:\n",
    "    # Récupère le mois correspondant dans la liste (attention aux indices qui commencent à 0)\n",
    "    mois_selectionne = mois[numero_mois - 1]\n",
    "    print(f\"Vous avez sélectionné le mois de : {mois_selectionne}\")\n",
    "else:\n",
    "    print(\"Erreur : veuillez entrer un numéro de mois valide entre 1 et 12.\")"
   ]
  },
  {
   "cell_type": "markdown",
   "id": "7d42d61d-e097-474e-b92d-59a860b26382",
   "metadata": {},
   "source": [
    "## Exercice : traduction des jours de la semaine \n",
    "Écrire un programme qui affiche les traductions des jours de la semaine en anglais et français.\n",
    "Les affichages du programme devraient être les suivants :"
   ]
  },
  {
   "cell_type": "code",
   "execution_count": 150,
   "id": "c2ef86b0-c5c0-441c-9bd6-bca6feb6249d",
   "metadata": {},
   "outputs": [],
   "source": [
    "# Liste des jours en français\n",
    "jours_fr = [\"lundi\", \"mardi\", \"mercredi\", \"jeudi\", \"vendredi\", \"samedi\", \"dimanche\"]\n",
    "\n",
    "# Liste des jours en anglais\n",
    "jours_en = [\"monday\", \"tuesday\", \"wednesday\", \"thursday\", \"friday\", \"saturday\", \"sunday\"]\n",
    "\n",
    "# Liste des jours en allemand\n",
    "jours_de = [\"Montag\", \"Dienstag\", \"Mittwoch\", \"Donnerstag\", \"Freitag\", \"Samstag\", \"Sonntag\"]"
   ]
  },
  {
   "cell_type": "code",
   "execution_count": 152,
   "id": "1b5cf5b1-9147-4e05-96f4-1709660743dd",
   "metadata": {},
   "outputs": [
    {
     "name": "stdout",
     "output_type": "stream",
     "text": [
      "Il y a 7 jours dans la semaine\n",
      "Le dernier jour de la semaine est dimanche\n",
      "\n",
      "Affichage des traductions des jours de la semaine en anglais et en allemand\n",
      "Le mot \"lundi\" se traduit par \"monday\" en anglais et par \"Montag\" en allemand\n",
      "Le mot \"mardi\" se traduit par \"tuesday\" en anglais et par \"Dienstag\" en allemand\n",
      "Le mot \"mercredi\" se traduit par \"wednesday\" en anglais et par \"Mittwoch\" en allemand\n",
      "Le mot \"jeudi\" se traduit par \"thursday\" en anglais et par \"Donnerstag\" en allemand\n",
      "Le mot \"vendredi\" se traduit par \"friday\" en anglais et par \"Freitag\" en allemand\n",
      "Le mot \"samedi\" se traduit par \"saturday\" en anglais et par \"Samstag\" en allemand\n",
      "Le mot \"dimanche\" se traduit par \"sunday\" en anglais et par \"Sonntag\" en allemand\n"
     ]
    }
   ],
   "source": [
    "# Affichage du nombre de jours dans la semaine\n",
    "print(\"Il y a 7 jours dans la semaine\")\n",
    "\n",
    "# Affichage du dernier jour de la semaine\n",
    "print(f\"Le dernier jour de la semaine est {jours_fr[-1]}\")\n",
    "\n",
    "# Affichage des traductions des jours de la semaine\n",
    "print(\"\\nAffichage des traductions des jours de la semaine en anglais et en allemand\")\n",
    "\n",
    "# Boucle pour afficher chaque jour avec sa traduction en anglais et en allemand\n",
    "for i in range(len(jours_fr)):\n",
    "    print(f'Le mot \"{jours_fr[i]}\" se traduit par \"{jours_en[i]}\" en anglais et par \"{jours_de[i]}\" en allemand')"
   ]
  },
  {
   "cell_type": "markdown",
   "id": "e528de64-5032-4b92-b826-23f1cfddd09a",
   "metadata": {},
   "source": [
    "## Notion de pile\n",
    "Une pile (stack en anglais) est une structure de données ayant pour particularité que le dernier élément à y être entré sera le premier à en sortir (LIFO : last in-first out) comme pour une pile d'assiettes sur une étagère de placard. On peut récupérer l'élément qui se situe en haut de la pile (dépiler) mais pas les éléments qui se trouvent au milieu.\n",
    "Il est possible d'utiliser une liste comme une pile. Pour empiler, on utilise la méthode append() :"
   ]
  },
  {
   "cell_type": "code",
   "execution_count": 163,
   "id": "3a762fcd-deaa-4752-b8ff-d2ef11a37d83",
   "metadata": {},
   "outputs": [],
   "source": [
    "fruits = [\"pomme\", \"poire\", \"banane\", \"kiwi\"]\n",
    "fruits.append(\"framboise\")"
   ]
  },
  {
   "cell_type": "code",
   "execution_count": 157,
   "id": "0f3bbff9-d7f1-4562-b3f1-b6996046f2f3",
   "metadata": {},
   "outputs": [],
   "source": [
    "# Pour dépiler\n",
    "dernier_fruit = fruits.pop()"
   ]
  },
  {
   "cell_type": "code",
   "execution_count": 159,
   "id": "1a3ac328-abf9-44a0-954b-8f387844bbd7",
   "metadata": {},
   "outputs": [
    {
     "data": {
      "text/plain": [
       "'framboise'"
      ]
     },
     "execution_count": 159,
     "metadata": {},
     "output_type": "execute_result"
    }
   ],
   "source": [
    "dernier_fruit"
   ]
  },
  {
   "cell_type": "code",
   "execution_count": 165,
   "id": "969bb617-bcf2-4c46-ab32-15661778c672",
   "metadata": {},
   "outputs": [
    {
     "data": {
      "text/plain": [
       "['pomme', 'poire', 'banane', 'kiwi', 'framboise']"
      ]
     },
     "execution_count": 165,
     "metadata": {},
     "output_type": "execute_result"
    }
   ],
   "source": [
    "fruits"
   ]
  },
  {
   "cell_type": "markdown",
   "id": "64dd89ae-b9ed-4056-b322-a80d968e02be",
   "metadata": {},
   "source": [
    "## Notion de file\n",
    "Une file (queue en anglais) est une structure de données ayant pour particularité que le premier élément à y être entré sera le premier à en sortir (FIFO : first in-first out) comme pour une file d'attente  à la caisse d'un magasin.\n",
    "Il est possible d'utiliser une liste comme une file. Pour \"enfiler\", on utilise la méthode append()"
   ]
  },
  {
   "cell_type": "code",
   "execution_count": 168,
   "id": "c465cf40-e6c9-4f84-8d7c-ed17416bdc16",
   "metadata": {},
   "outputs": [],
   "source": [
    "fruits = [\"pomme\", \"poire\", \"banane\", \"kiwi\"]\n",
    "fruits.append(\"framboise\")"
   ]
  },
  {
   "cell_type": "code",
   "execution_count": 170,
   "id": "cc74b72b-6a44-492f-9e74-40b41670f544",
   "metadata": {},
   "outputs": [
    {
     "data": {
      "text/plain": [
       "['pomme', 'poire', 'banane', 'kiwi', 'framboise']"
      ]
     },
     "execution_count": 170,
     "metadata": {},
     "output_type": "execute_result"
    }
   ],
   "source": [
    "fruits"
   ]
  },
  {
   "cell_type": "code",
   "execution_count": 174,
   "id": "38bcbd2f-1e95-437b-9da6-5c5144d0d9a1",
   "metadata": {},
   "outputs": [
    {
     "data": {
      "text/plain": [
       "'pomme'"
      ]
     },
     "execution_count": 174,
     "metadata": {},
     "output_type": "execute_result"
    }
   ],
   "source": [
    "# Pour \"défiler\", on utilise la méthode \n",
    "fruits.pop(0)"
   ]
  },
  {
   "cell_type": "code",
   "execution_count": null,
   "id": "a4e1ccd7-71f3-47cb-9bd1-05a11aaaa557",
   "metadata": {},
   "outputs": [],
   "source": []
  }
 ],
 "metadata": {
  "kernelspec": {
   "display_name": "Python 3 (ipykernel)",
   "language": "python",
   "name": "python3"
  },
  "language_info": {
   "codemirror_mode": {
    "name": "ipython",
    "version": 3
   },
   "file_extension": ".py",
   "mimetype": "text/x-python",
   "name": "python",
   "nbconvert_exporter": "python",
   "pygments_lexer": "ipython3",
   "version": "3.12.4"
  }
 },
 "nbformat": 4,
 "nbformat_minor": 5
}
